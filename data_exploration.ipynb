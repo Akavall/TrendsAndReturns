{
 "cells": [
  {
   "cell_type": "code",
   "execution_count": 1,
   "metadata": {},
   "outputs": [],
   "source": [
    "import pandas as pd"
   ]
  },
  {
   "cell_type": "code",
   "execution_count": 3,
   "metadata": {},
   "outputs": [],
   "source": [
    "import numpy as np"
   ]
  },
  {
   "cell_type": "code",
   "execution_count": 17,
   "metadata": {},
   "outputs": [],
   "source": [
    "import matplotlib.pyplot as plt"
   ]
  },
  {
   "cell_type": "code",
   "execution_count": 10,
   "metadata": {},
   "outputs": [
    {
     "name": "stdout",
     "output_type": "stream",
     "text": [
      "Number of valid PERMNOs: 6682\n",
      "shape of df: (1677182, 10)\n",
      "found: 93 permnos with splits\n",
      "removing stocks with splits...\n",
      "shape of df: (1653839, 10)\n",
      "found: 998 permnos with negative prices\n",
      "removing stocks with negative prices\n",
      "shape of df: (1403341, 10)\n",
      "Number of valid PERMNOs: 6780\n",
      "shape of df: (1701780, 10)\n",
      "found: 59 permnos with splits\n",
      "removing stocks with splits...\n",
      "shape of df: (1686971, 10)\n",
      "found: 1058 permnos with negative prices\n",
      "removing stocks with negative prices\n",
      "shape of df: (1421413, 10)\n"
     ]
    }
   ],
   "source": [
    "data_2017 = pd.read_csv(\"2017_data.csv\")\n",
    "data_2018 = pd.read_csv(\"2018_data.csv\")\n",
    "\n",
    "clean_data_2017 = reshape_and_clean_data(data_2017, valid_obs_number=251)\n",
    "clean_data_2018 = reshape_and_clean_data(data_2018, valid_obs_number=251)\n"
   ]
  },
  {
   "cell_type": "code",
   "execution_count": 11,
   "metadata": {},
   "outputs": [
    {
     "name": "stdout",
     "output_type": "stream",
     "text": [
      "common_permnos found: 5085\n",
      "using 5000 training ids\n",
      "using 0 validation_ids\n",
      "using 85 test ids\n"
     ]
    }
   ],
   "source": [
    "training_stocks, training_labels, _, _, test_stocks, test_labels = prepare_train_and_test(clean_data_2017,\n",
    "                                                                                    clean_data_2018,\n",
    "                                                                                    returns_period=125,\n",
    "                                                                                    n_train=5000,\n",
    "                                                                                    n_validation=0,\n",
    "                                                                                    rows_to_keep=range(0, 251, 20))"
   ]
  },
  {
   "cell_type": "code",
   "execution_count": 12,
   "metadata": {},
   "outputs": [],
   "source": [
    "training_mean = np.mean(training_stocks, axis=1)\n",
    "training_stdev = np.std(training_stocks, axis=1)"
   ]
  },
  {
   "cell_type": "code",
   "execution_count": 30,
   "metadata": {},
   "outputs": [],
   "source": [
    "temp = pd.DataFrame({\"mean\": training_mean, \"stdev\": training_stdev, \"returns\": training_labels})"
   ]
  },
  {
   "cell_type": "code",
   "execution_count": 31,
   "metadata": {},
   "outputs": [],
   "source": [
    "import seaborn as sns; sns.set()"
   ]
  },
  {
   "cell_type": "code",
   "execution_count": 32,
   "metadata": {},
   "outputs": [
    {
     "data": {
      "text/plain": [
       "<matplotlib.axes._subplots.AxesSubplot at 0x7f32861f3f60>"
      ]
     },
     "execution_count": 32,
     "metadata": {},
     "output_type": "execute_result"
    },
    {
     "data": {
      "image/png": "[encoded data removed]",
      "text/plain": [
       "<Figure size 432x288 with 1 Axes>"
      ]
     },
     "metadata": {},
     "output_type": "display_data"
    }
   ],
   "source": [
    "sns.scatterplot(x=\"mean\", y=\"returns\", data=temp)"
   ]
  },
  {
   "cell_type": "code",
   "execution_count": 33,
   "metadata": {},
   "outputs": [
    {
     "data": {
      "text/plain": [
       "<matplotlib.axes._subplots.AxesSubplot at 0x7f328620d710>"
      ]
     },
     "execution_count": 33,
     "metadata": {},
     "output_type": "execute_result"
    },
    {
     "data": {
      "image/png": "[encoded data removed]",
      "text/plain": [
       "<Figure size 432x288 with 1 Axes>"
      ]
     },
     "metadata": {},
     "output_type": "display_data"
    }
   ],
   "source": [
    "sns.scatterplot(x=\"stdev\", y=\"returns\", data=temp)"
   ]
  },
  {
   "cell_type": "code",
   "execution_count": null,
   "metadata": {},
   "outputs": [],
   "source": []
  }
 ],
 "metadata": {
  "kernelspec": {
   "display_name": "Python 3",
   "language": "python",
   "name": "python3"
  },
  "language_info": {
   "codemirror_mode": {
    "name": "ipython",
    "version": 3
   },
   "file_extension": ".py",
   "mimetype": "text/x-python",
   "name": "python",
   "nbconvert_exporter": "python",
   "pygments_lexer": "ipython3",
   "version": "3.6.8"
  }
 },
 "nbformat": 4,
 "nbformat_minor": 2
}
